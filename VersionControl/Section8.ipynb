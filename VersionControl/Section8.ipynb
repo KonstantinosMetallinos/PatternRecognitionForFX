{
 "cells": [
  {
   "cell_type": "markdown",
   "metadata": {},
   "source": [
    "# Section 1 "
   ]
  },
  {
   "cell_type": "code",
   "execution_count": 1,
   "metadata": {
    "collapsed": false
   },
   "outputs": [],
   "source": [
    "import matplotlib\n",
    "import matplotlib.pyplot as plt\n",
    "import matplotlib.ticker as mticker\n",
    "import matplotlib.dates as mdates\n",
    "import numpy as np\n",
    "\n",
    "import time"
   ]
  },
  {
   "cell_type": "markdown",
   "metadata": {},
   "source": [
    "# Section 2"
   ]
  },
  {
   "cell_type": "markdown",
   "metadata": {},
   "source": [
    "##### Static Final Strings"
   ]
  },
  {
   "cell_type": "code",
   "execution_count": 2,
   "metadata": {
    "collapsed": true
   },
   "outputs": [],
   "source": [
    "filename='GBPUSD1d.txt'\n",
    "path='' # Blank := local file\n",
    "filelocation=path+filename\n",
    "\n",
    "comma=','\n",
    "patternFinderStoppingPoint=30\n",
    "ptrnStart=11 #patternFinderStartingPoint\n"
   ]
  },
  {
   "cell_type": "markdown",
   "metadata": {},
   "source": [
    "##### Global Variables"
   ]
  },
  {
   "cell_type": "code",
   "execution_count": 3,
   "metadata": {
    "collapsed": true
   },
   "outputs": [],
   "source": [
    "date,bid,ask = np.loadtxt(filelocation, unpack=True, \n",
    "                      delimiter=comma, \n",
    "                      converters={0:mdates.strpdate2num('%Y%m%d%H%M%S')})\n",
    "                    #converters: Used to convert DateStamps to plot Dates\n",
    "\n",
    "avgLine = (bid+ask)/2\n",
    "\n",
    "#Store the Pattern and store the outcome of the next 20-30 points \n",
    "patternAr = []\n",
    "performanceAr = []\n",
    "\n",
    "patForRec = []"
   ]
  },
  {
   "cell_type": "markdown",
   "metadata": {},
   "source": [
    "# Section 3"
   ]
  },
  {
   "cell_type": "code",
   "execution_count": 4,
   "metadata": {
    "collapsed": true
   },
   "outputs": [],
   "source": [
    "def graphRawFX():\n",
    "    global date,bid,ask\n",
    "    \n",
    "    fig = plt.figure(figsize=(10,7))\n",
    "    ax1 = plt.subplot2grid((40,40), (0,0), rowspan=40, colspan=40)\n",
    "\n",
    "    ax1.plot(date,bid)\n",
    "    ax1.plot(date,ask)\n",
    "    plt.gca().get_yaxis().get_major_formatter().set_useOffset(False)\n",
    "\n",
    "\n",
    "    ax1.xaxis.set_major_formatter(mdates.DateFormatter('%Y-%m-%d %H:%M:%S'))\n",
    "    for label in ax1.xaxis.get_ticklabels():\n",
    "        label.set_rotation(45)\n",
    "\n",
    "    # Spread addition to the plot\n",
    "    ax1_2 = ax1.twinx()\n",
    "    ax1_2.fill_between(date, 0, (ask-bid), facecolor='g', alpha=.3)\n",
    "\n",
    "    plt.subplots_adjust(bottom=.23)\n",
    "\n",
    "    plt.grid(True)\n",
    "    plt.show()"
   ]
  },
  {
   "cell_type": "code",
   "execution_count": 5,
   "metadata": {
    "collapsed": false
   },
   "outputs": [],
   "source": [
    "#graphRawFX()"
   ]
  },
  {
   "cell_type": "markdown",
   "metadata": {
    "collapsed": true
   },
   "source": [
    "# Section 4"
   ]
  },
  {
   "cell_type": "code",
   "execution_count": 6,
   "metadata": {
    "collapsed": true
   },
   "outputs": [],
   "source": [
    "def percentChange(startPoint_, currentPoint_):\n",
    "    return (float(currentPoint_-startPoint_)*100.0/abs(startPoint_))\n",
    "#TODO: Check we are not dividing by zero. "
   ]
  },
  {
   "cell_type": "markdown",
   "metadata": {
    "collapsed": true
   },
   "source": [
    "# Section 5"
   ]
  },
  {
   "cell_type": "code",
   "execution_count": 7,
   "metadata": {
    "collapsed": false
   },
   "outputs": [],
   "source": [
    "def patternStorage():\n",
    "    global avgLine, ptrnStart, patternFinderStartingPoint\n",
    "    \n",
    "    #Timing it\n",
    "    patStartTime = time.time()\n",
    "    \n",
    "    x = len(avgLine) - patternFinderStoppingPoint # counter end point; -30 to stop at the 30th point\n",
    "    \n",
    "    y = ptrnStart#counter starting point \n",
    "    while y < x:\n",
    "        pattern = []\n",
    "        #p1=point 1; avgLine[y-10]=startingpoint; avgLine[y-9]=currentpoint\n",
    "        # Repeat the process for every starting point and subtract 1 from \"ptrnStart\" per point.\n",
    "        p1 = percentChange(avgLine[y-ptrnStart], avgLine[y-(ptrnStart-1)])\n",
    "        p2 = percentChange(avgLine[y-ptrnStart], avgLine[y-(ptrnStart-2)])\n",
    "        p3 = percentChange(avgLine[y-ptrnStart], avgLine[y-(ptrnStart-3)])\n",
    "        p4 = percentChange(avgLine[y-ptrnStart], avgLine[y-(ptrnStart-4)])\n",
    "        p5 = percentChange(avgLine[y-ptrnStart], avgLine[y-(ptrnStart-5)])\n",
    "        p6 = percentChange(avgLine[y-ptrnStart], avgLine[y-(ptrnStart-6)])\n",
    "        p7 = percentChange(avgLine[y-ptrnStart], avgLine[y-(ptrnStart-7)])\n",
    "        p8 = percentChange(avgLine[y-ptrnStart], avgLine[y-(ptrnStart-8)])\n",
    "        p9 = percentChange(avgLine[y-ptrnStart], avgLine[y-(ptrnStart-9)])\n",
    "        p10 = percentChange(avgLine[y-ptrnStart], avgLine[y])#(ptrnStart-10)=0\n",
    "        \n",
    "        outcomeRange = avgLine[y+20:y+30]\n",
    "        currentPoint = avgLine[y]\n",
    "        \n",
    "        try:\n",
    "            avgOutcome =(reduce(lambda x,y: x+y, outcomeRange)/len(outcomeRange))\n",
    "        except Exception, e:\n",
    "            print str(e)\n",
    "            avgOutcome=0\n",
    "        \n",
    "        #Normalise \n",
    "        futureOutcome = percentChange(currentPoint, avgOutcome)\n",
    "        pattern.append(p1)\n",
    "        pattern.append(p2)\n",
    "        pattern.append(p3)\n",
    "        pattern.append(p4)\n",
    "        pattern.append(p5)\n",
    "        pattern.append(p6)\n",
    "        pattern.append(p7)\n",
    "        pattern.append(p8)\n",
    "        pattern.append(p9)\n",
    "        pattern.append(p10)\n",
    "        \n",
    "        patternAr.append(pattern)\n",
    "        performanceAr.append(futureOutcome)\n",
    "\n",
    "        \n",
    "        y += 1\n",
    "        \n",
    "    patEndTime = time.time()\n",
    "    \n",
    "    #Sanity check lengths are the same \n",
    "    print('Length of pattern Array: ', len(patternAr))\n",
    "    print('Length of performance Array: ', len(performanceAr))\n",
    "    \n",
    "    print('Pattern storage took: ', patEndTime-patStartTime, ' seconds')\n",
    "    \n",
    "                "
   ]
  },
  {
   "cell_type": "code",
   "execution_count": 8,
   "metadata": {
    "collapsed": false
   },
   "outputs": [],
   "source": [
    "#patternStorage()"
   ]
  },
  {
   "cell_type": "markdown",
   "metadata": {
    "collapsed": true
   },
   "source": [
    "# Section 7"
   ]
  },
  {
   "cell_type": "code",
   "execution_count": 9,
   "metadata": {
    "collapsed": true
   },
   "outputs": [],
   "source": [
    "def currentPattern():\n",
    "    global ptrnStart, patForRec\n",
    "    \n",
    "    #pattern for Recognition\n",
    "    \n",
    "    \n",
    "    #Current Pattern\n",
    "    cp1 = percentChange(avgLine[-ptrnStart], avgLine[-(ptrnStart-1)])\n",
    "    cp2 = percentChange(avgLine[-ptrnStart], avgLine[-(ptrnStart-2)])\n",
    "    cp3 = percentChange(avgLine[-ptrnStart], avgLine[-(ptrnStart-3)])\n",
    "    cp4 = percentChange(avgLine[-ptrnStart], avgLine[-(ptrnStart-4)])\n",
    "    cp5 = percentChange(avgLine[-ptrnStart], avgLine[-(ptrnStart-5)])\n",
    "    cp6 = percentChange(avgLine[-ptrnStart], avgLine[-(ptrnStart-6)])\n",
    "    cp7 = percentChange(avgLine[-ptrnStart], avgLine[-(ptrnStart-7)])\n",
    "    cp8 = percentChange(avgLine[-ptrnStart], avgLine[-(ptrnStart-8)])\n",
    "    cp9 = percentChange(avgLine[-ptrnStart], avgLine[-(ptrnStart-9)])\n",
    "    cp10 = percentChange(avgLine[-ptrnStart], avgLine[-(ptrnStart-10)])\n",
    "    \n",
    "    \n",
    "    patForRec.append(cp1)\n",
    "    patForRec.append(cp2)\n",
    "    patForRec.append(cp3)\n",
    "    patForRec.append(cp4)\n",
    "    patForRec.append(cp5)\n",
    "    patForRec.append(cp6)\n",
    "    patForRec.append(cp7)\n",
    "    patForRec.append(cp8)\n",
    "    patForRec.append(cp9)\n",
    "    patForRec.append(cp10)\n",
    "    \n",
    "    print(patForRec) \n",
    "    \n",
    "    "
   ]
  },
  {
   "cell_type": "code",
   "execution_count": 10,
   "metadata": {
    "collapsed": false
   },
   "outputs": [],
   "source": [
    "#currentPattern()"
   ]
  },
  {
   "cell_type": "markdown",
   "metadata": {
    "collapsed": true
   },
   "source": [
    "# Section 8"
   ]
  },
  {
   "cell_type": "code",
   "execution_count": 11,
   "metadata": {
    "collapsed": false
   },
   "outputs": [],
   "source": [
    "def patternRecognition():\n",
    "    for eachPattern in patternAr:\n",
    "        #similarity measure for pattern under question \n",
    "            # compared to the other patterns\n",
    "        sim1 = 100.00 - abs(percentChange(eachPattern[0], patForRec[0]))\n",
    "        sim2 = 100.00 - abs(percentChange(eachPattern[1], patForRec[1]))\n",
    "        sim3 = 100.00 - abs(percentChange(eachPattern[2], patForRec[2]))\n",
    "        sim4 = 100.00 - abs(percentChange(eachPattern[3], patForRec[3]))\n",
    "        sim5 = 100.00 - abs(percentChange(eachPattern[4], patForRec[4]))\n",
    "        sim6 = 100.00 - abs(percentChange(eachPattern[5], patForRec[5]))\n",
    "        sim7 = 100.00 - abs(percentChange(eachPattern[6], patForRec[6]))\n",
    "        sim8 = 100.00 - abs(percentChange(eachPattern[7], patForRec[7]))\n",
    "        sim9 = 100.00 - abs(percentChange(eachPattern[8], patForRec[8]))\n",
    "        sim10 = 100.00 - abs(percentChange(eachPattern[9], patForRec[9]))\n",
    "    \n",
    "        # How similar are we ? \n",
    "        howSim = (sim1+sim2+sim3+sim4+sim5+sim6+sim7+sim8+sim9+sim10)/10.00\n",
    "        \n",
    "        if(howSim > 70):\n",
    "            \n",
    "            #Pattern Index that we found similar.\n",
    "            patdex = patternAr.index(eachPattern)\n",
    "            \n",
    "            print('#################################')\n",
    "            print('Pattern for Recognition: ', patForRec)\n",
    "            print('=================================')\n",
    "            print('Potential pattern found: ', eachPattern)\n",
    "            print('With Similarity', howSim, ' and index ', patdex)\n",
    "            print('--------------------------------')\n",
    "            print('Predicted outcome', performanceAr[patdex])\n",
    "            print('#################################')\n",
    "            \n",
    "    \n",
    "    "
   ]
  },
  {
   "cell_type": "code",
   "execution_count": null,
   "metadata": {
    "collapsed": true
   },
   "outputs": [],
   "source": []
  },
  {
   "cell_type": "markdown",
   "metadata": {},
   "source": [
    "## Execution "
   ]
  },
  {
   "cell_type": "code",
   "execution_count": 12,
   "metadata": {
    "collapsed": false,
    "scrolled": true
   },
   "outputs": [],
   "source": [
    "#patternStorage()"
   ]
  },
  {
   "cell_type": "code",
   "execution_count": 13,
   "metadata": {
    "collapsed": false
   },
   "outputs": [],
   "source": [
    "#currentPattern()"
   ]
  },
  {
   "cell_type": "code",
   "execution_count": 14,
   "metadata": {
    "collapsed": false
   },
   "outputs": [],
   "source": [
    "#patternRecognition()"
   ]
  },
  {
   "cell_type": "code",
   "execution_count": 15,
   "metadata": {
    "collapsed": false
   },
   "outputs": [],
   "source": [
    "#totalEndTime = time.time() - totalStartTime\n",
    "#print('Entire Process took ', totalEndTime)"
   ]
  },
  {
   "cell_type": "code",
   "execution_count": null,
   "metadata": {
    "collapsed": true
   },
   "outputs": [],
   "source": []
  },
  {
   "cell_type": "code",
   "execution_count": 16,
   "metadata": {
    "collapsed": false
   },
   "outputs": [
    {
     "name": "stdout",
     "output_type": "stream",
     "text": [
      "('Length of pattern Array: ', 61971)\n",
      "('Length of performance Array: ', 61971)\n",
      "('Pattern storage took: ', 0.9330000877380371, ' seconds')\n",
      "[-0.00032112212917026896, -0.0012844885166668153, -0.00064224425834053791, -0.00032112212917026896, -0.00064224425834053791, -0.0016056106458513448, -0.0016056106458370843, -0.0016056106458370843, -0.00032112212917026896, -0.00032112212917026896]\n",
      "#################################\n",
      "('Pattern for Recognition: ', [-0.00032112212917026896, -0.0012844885166668153, -0.00064224425834053791, -0.00032112212917026896, -0.00064224425834053791, -0.0016056106458513448, -0.0016056106458370843, -0.0016056106458370843, -0.00032112212917026896, -0.00032112212917026896])\n",
      "=================================\n",
      "('Potential pattern found: ', [-0.00032189739200373402, -0.0019313843519366334, -0.00064379478397887785, -0.00064379478397887785, -0.00096569217595402163, -0.0016094869599328995, -0.0019313843519366334, -0.0012875895679577557, -0.00064379478397887785, -0.00032189739198943893])\n",
      "('With Similarity', 79.024168721555412, ' and index ', 2326)\n",
      "--------------------------------\n",
      "('Predicted outcome', -0.0017704413549536099)\n",
      "#################################\n",
      "#################################\n",
      "('Pattern for Recognition: ', [-0.00032112212917026896, -0.0012844885166668153, -0.00064224425834053791, -0.00032112212917026896, -0.00064224425834053791, -0.0016056106458513448, -0.0016056106458370843, -0.0016056106458370843, -0.00032112212917026896, -0.00032112212917026896])\n",
      "=================================\n",
      "('Potential pattern found: ', [-0.00096510501950324273, -0.00096510501950324273, -0.00096510501950324273, -0.0012868066926614661, -0.0012868066926614661, -0.0016085083658482623, -0.0019302100390064855, -0.0019302100390064855, -0.00032170167315822331, -0.00032170167315822331])\n",
      "('With Similarity', 70.741757331486284, ' and index ', 5550)\n",
      "--------------------------------\n",
      "('Predicted outcome', -0.0020588973317997982)\n",
      "#################################\n",
      "#################################\n",
      "('Pattern for Recognition: ', [-0.00032112212917026896, -0.0012844885166668153, -0.00064224425834053791, -0.00032112212917026896, -0.00064224425834053791, -0.0016056106458513448, -0.0016056106458370843, -0.0016056106458370843, -0.00032112212917026896, -0.00032112212917026896])\n",
      "=================================\n",
      "('Potential pattern found: ', [-0.00032160028299607401, -0.0012864011320271418, -0.0012864011320271418, -0.00032160028299607401, -0.00096480084901678584, -0.0016080014150374978, -0.0019296016980335717, -0.0012864011320271418, -0.0012864011320271418, -0.00032160028299607401])\n",
      "('With Similarity', 79.910792274139268, ' and index ', 6427)\n",
      "--------------------------------\n",
      "('Predicted outcome', -0.0021225686940381377)\n",
      "#################################\n",
      "#################################\n",
      "('Pattern for Recognition: ', [-0.00032112212917026896, -0.0012844885166668153, -0.00064224425834053791, -0.00032112212917026896, -0.00064224425834053791, -0.0016056106458513448, -0.0016056106458370843, -0.0016056106458370843, -0.00032112212917026896, -0.00032112212917026896])\n",
      "=================================\n",
      "('Potential pattern found: ', [-0.00032102625672538528, -0.00096307877020466862, -0.00064205251347928334, -0.00064205251347928334, -0.00064205251347928334, -0.0016051312836839521, -0.0012841050269443103, -0.0019261575404093372, -0.0019261575404093372, -0.0019261575404093372])\n",
      "('With Similarity', 70.818650023465665, ' and index ', 14645)\n",
      "--------------------------------\n",
      "('Predicted outcome', -0.018780397759195416)\n",
      "#################################\n"
     ]
    },
    {
     "name": "stderr",
     "output_type": "stream",
     "text": [
      "C:\\Anaconda2\\lib\\site-packages\\ipykernel\\__main__.py:2: RuntimeWarning: divide by zero encountered in double_scalars\n",
      "  from ipykernel import kernelapp as app\n"
     ]
    },
    {
     "name": "stdout",
     "output_type": "stream",
     "text": [
      "#################################\n",
      "('Pattern for Recognition: ', [-0.00032112212917026896, -0.0012844885166668153, -0.00064224425834053791, -0.00032112212917026896, -0.00064224425834053791, -0.0016056106458513448, -0.0016056106458370843, -0.0016056106458370843, -0.00032112212917026896, -0.00032112212917026896])\n",
      "=================================\n",
      "('Potential pattern found: ', [-0.0012845833935565955, -0.0009634375451817083, -0.00064229169677829773, -0.00032114584840341057, -0.00064229169677829773, -0.0012845833935565955, -0.0009634375451817083, -0.001926875090334893, -0.0012845833935565955, -0.00032114584840341057])\n",
      "('With Similarity', 70.832533203806108, ' and index ', 34103)\n",
      "--------------------------------\n",
      "('Predicted outcome', -0.010533617655360003)\n",
      "#################################\n",
      "#################################\n",
      "('Pattern for Recognition: ', [-0.00032112212917026896, -0.0012844885166668153, -0.00064224425834053791, -0.00032112212917026896, -0.00064224425834053791, -0.0016056106458513448, -0.0016056106458370843, -0.0016056106458370843, -0.00032112212917026896, -0.00032112212917026896])\n",
      "=================================\n",
      "('Potential pattern found: ', [-0.00032116957111225878, -0.00064233914222451755, -0.0012846782844490351, -0.00032116957111225878, -0.00064233914222451755, -0.0016058478555470311, -0.0012846782844490351, -0.0016058478555470311, -0.0019270174266735527, -0.00032116957111225878])\n",
      "('With Similarity', 74.161619697625056, ' and index ', 34329)\n",
      "--------------------------------\n",
      "('Predicted outcome', 0.0051066125815378369)\n",
      "#################################\n",
      "#################################\n",
      "('Pattern for Recognition: ', [-0.00032112212917026896, -0.0012844885166668153, -0.00064224425834053791, -0.00032112212917026896, -0.00064224425834053791, -0.0016056106458513448, -0.0016056106458370843, -0.0016056106458370843, -0.00032112212917026896, -0.00032112212917026896])\n",
      "=================================\n",
      "('Potential pattern found: ', [-0.00032085836030178654, -0.0012834334411501503, -0.00064171672057507516, -0.0012834334411501503, -0.00064171672057507516, -0.0016042918014376878, -0.0019251501617252255, -0.0019251501617252255, -0.0032085836028753756, -0.0060963088454347161])\n",
      "('With Similarity', 70.668889958954708, ' and index ', 41452)\n",
      "--------------------------------\n",
      "('Predicted outcome', -0.00028879012980698626)\n",
      "#################################\n",
      "#################################\n",
      "('Pattern for Recognition: ', [-0.00032112212917026896, -0.0012844885166668153, -0.00064224425834053791, -0.00032112212917026896, -0.00064224425834053791, -0.0016056106458513448, -0.0016056106458370843, -0.0016056106458370843, -0.00032112212917026896, -0.00032112212917026896])\n",
      "=================================\n",
      "('Potential pattern found: ', [-0.00096268010139436029, -0.0012835734685305638, -0.0016044668356667675, -0.0012835734685305638, -0.0012835734685305638, -0.0019253602028029711, -0.0016044668356667675, -0.0012835734685305638, -0.00032089336712195306, -0.00032089336712195306])\n",
      "('With Similarity', 70.645755192928632, ' and index ', 51252)\n",
      "--------------------------------\n",
      "('Predicted outcome', -0.009241758629647559)\n",
      "#################################\n",
      "#################################\n",
      "('Pattern for Recognition: ', [-0.00032112212917026896, -0.0012844885166668153, -0.00064224425834053791, -0.00032112212917026896, -0.00064224425834053791, -0.0016056106458513448, -0.0016056106458370843, -0.0016056106458370843, -0.00032112212917026896, -0.00032112212917026896])\n",
      "=================================\n",
      "('Potential pattern found: ', [-0.00032123147297690059, -0.0012849258918933369, -0.00064246294595380119, -0.00032123147297690059, -0.00032123147297690059, -0.0019273888378471382, -0.0025698517838009392, -0.0025698517838009392, -0.0025698517838009392, -0.00032123147297690059])\n",
      "('With Similarity', 72.065604715812498, ' and index ', 52843)\n",
      "--------------------------------\n",
      "('Predicted outcome', -0.019852168801264034)\n",
      "#################################\n",
      "#################################\n",
      "('Pattern for Recognition: ', [-0.00032112212917026896, -0.0012844885166668153, -0.00064224425834053791, -0.00032112212917026896, -0.00064224425834053791, -0.0016056106458513448, -0.0016056106458370843, -0.0016056106458370843, -0.00032112212917026896, -0.00032112212917026896])\n",
      "=================================\n",
      "('Potential pattern found: ', [-0.00032113244142934199, -0.00096339732431654829, -0.00096339732431654829, -0.0019267946486330966, -0.0016056622072037545, -0.0016056622072037545, -0.0016056622072037545, -0.0016056622072037545, -0.00032113244142934199, -0.00064226488287294514])\n",
      "('With Similarity', 73.998265941700012, ' and index ', 60786)\n",
      "--------------------------------\n",
      "('Predicted outcome', -0.024470449202941894)\n",
      "#################################\n",
      "('Entire Process took ', 1.6010000705718994)\n"
     ]
    }
   ],
   "source": [
    "#Time the whole Script\n",
    "totalStartTime = time.time()\n",
    "patternStorage()\n",
    "currentPattern()\n",
    "patternRecognition()\n",
    "totalEndTime = time.time() - totalStartTime\n",
    "print('Entire Process took ', totalEndTime)"
   ]
  },
  {
   "cell_type": "code",
   "execution_count": null,
   "metadata": {
    "collapsed": true
   },
   "outputs": [],
   "source": []
  }
 ],
 "metadata": {
  "kernelspec": {
   "display_name": "Python 2",
   "language": "python",
   "name": "python2"
  },
  "language_info": {
   "codemirror_mode": {
    "name": "ipython",
    "version": 2
   },
   "file_extension": ".py",
   "mimetype": "text/x-python",
   "name": "python",
   "nbconvert_exporter": "python",
   "pygments_lexer": "ipython2",
   "version": "2.7.13"
  }
 },
 "nbformat": 4,
 "nbformat_minor": 2
}
