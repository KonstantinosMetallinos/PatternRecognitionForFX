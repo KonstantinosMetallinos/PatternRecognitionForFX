{
 "cells": [
  {
   "cell_type": "markdown",
   "metadata": {},
   "source": [
    "# Section 1 "
   ]
  },
  {
   "cell_type": "code",
   "execution_count": 1,
   "metadata": {
    "collapsed": false
   },
   "outputs": [],
   "source": [
    "import matplotlib\n",
    "import matplotlib.pyplot as plt\n",
    "import matplotlib.ticker as mticker\n",
    "import matplotlib.dates as mdates\n",
    "import numpy as np\n",
    "\n",
    "import time"
   ]
  },
  {
   "cell_type": "markdown",
   "metadata": {},
   "source": [
    "# Section 2"
   ]
  },
  {
   "cell_type": "markdown",
   "metadata": {},
   "source": [
    "##### Static Final Strings"
   ]
  },
  {
   "cell_type": "code",
   "execution_count": 2,
   "metadata": {
    "collapsed": true
   },
   "outputs": [],
   "source": [
    "filename='GBPUSD1d.txt'\n",
    "path='' # Blank := local file\n",
    "filelocation=path+filename\n",
    "\n",
    "comma=','"
   ]
  },
  {
   "cell_type": "markdown",
   "metadata": {},
   "source": [
    "##### Global Variables"
   ]
  },
  {
   "cell_type": "code",
   "execution_count": 3,
   "metadata": {
    "collapsed": true
   },
   "outputs": [],
   "source": [
    "date,bid,ask = np.loadtxt(filelocation, unpack=True, \n",
    "                      delimiter=comma, \n",
    "                      converters={0:mdates.strpdate2num('%Y%m%d%H%M%S')})\n",
    "#converters: Used to convert DateStamps to plot Dates\n"
   ]
  },
  {
   "cell_type": "markdown",
   "metadata": {},
   "source": [
    "# Section 3"
   ]
  },
  {
   "cell_type": "code",
   "execution_count": 4,
   "metadata": {
    "collapsed": true
   },
   "outputs": [],
   "source": [
    "def graphRawFX():\n",
    "    global date,bid,ask\n",
    "    \n",
    "    fig = plt.figure(figsize=(10,7))\n",
    "    ax1 = plt.subplot2grid((40,40), (0,0), rowspan=40, colspan=40)\n",
    "\n",
    "    ax1.plot(date,bid)\n",
    "    ax1.plot(date,ask)\n",
    "    plt.gca().get_yaxis().get_major_formatter().set_useOffset(False)\n",
    "\n",
    "\n",
    "    ax1.xaxis.set_major_formatter(mdates.DateFormatter('%Y-%m-%d %H:%M:%S'))\n",
    "    for label in ax1.xaxis.get_ticklabels():\n",
    "        label.set_rotation(45)\n",
    "\n",
    "    # Spread addition to the plot\n",
    "    ax1_2 = ax1.twinx()\n",
    "    ax1_2.fill_between(date, 0, (ask-bid), facecolor='g', alpha=.3)\n",
    "\n",
    "    plt.subplots_adjust(bottom=.23)\n",
    "\n",
    "    plt.grid(True)\n",
    "    plt.show()"
   ]
  },
  {
   "cell_type": "code",
   "execution_count": 5,
   "metadata": {
    "collapsed": false
   },
   "outputs": [],
   "source": [
    "#graphRawFX()"
   ]
  },
  {
   "cell_type": "markdown",
   "metadata": {
    "collapsed": true
   },
   "source": [
    "# Section 4"
   ]
  },
  {
   "cell_type": "code",
   "execution_count": 6,
   "metadata": {
    "collapsed": true
   },
   "outputs": [],
   "source": [
    "def percentChange(startPoint_, currentPoint_):\n",
    "    return (float(currentPoint_-startPoint_)*100.0/startPoint_)"
   ]
  },
  {
   "cell_type": "markdown",
   "metadata": {
    "collapsed": true
   },
   "source": [
    "# Section 5"
   ]
  },
  {
   "cell_type": "code",
   "execution_count": 7,
   "metadata": {
    "collapsed": false
   },
   "outputs": [],
   "source": [
    "def patternFinder():\n",
    "    avgLine = (bid+ask)/2\n",
    "    x = len(avgLine) - 30 # counter end point; -30 to stop at the 30th point\n",
    "    \n",
    "    y = 11#counter starting point \n",
    "    while y < x:\n",
    "        #p1=point 1; avgLine[y-10]=startingpoint; avgLine[y-9]=currentpoint\n",
    "        p1 = percentChange(avgLine[y-10], avgLine[y-9])\n",
    "        p2 = percentChange(avgLine[y-10], avgLine[y-8])\n",
    "        p3 = percentChange(avgLine[y-10], avgLine[y-7])\n",
    "        p4 = percentChange(avgLine[y-10], avgLine[y-6])\n",
    "        p5 = percentChange(avgLine[y-10], avgLine[y-5])\n",
    "        p6 = percentChange(avgLine[y-10], avgLine[y-4])\n",
    "        p7 = percentChange(avgLine[y-10], avgLine[y-3])\n",
    "        p8 = percentChange(avgLine[y-10], avgLine[y-2])\n",
    "        p9 = percentChange(avgLine[y-10], avgLine[y-1])\n",
    "        p10 = percentChange(avgLine[y-10], avgLine[y])\n",
    "        \n",
    "        outcomeRange = avgLine[y+20:y+30]\n",
    "        currentPoint = avgLine[y]\n",
    "        \n",
    "        #print average \n",
    "        print(reduce(lambda x,y: x+y, outcomeRange)/len(outcomeRange))\n",
    "        print(currentPoint)\n",
    "        print\n",
    "        print(p1, p2, p3, p4, p5, p6, p7, p8, p9, p10)\n",
    "        y += 1\n",
    "        time.sleep(5555)\n",
    "        \n",
    "        "
   ]
  },
  {
   "cell_type": "code",
   "execution_count": null,
   "metadata": {
    "collapsed": false
   },
   "outputs": [
    {
     "name": "stdout",
     "output_type": "stream",
     "text": [
      "1.553601\n",
      "1.553555\n",
      "\n",
      "(-0.0019309616832820227, -0.0032182694721319405, -0.0032182694721319405, -0.0035400964193622849, -0.0038619233665640454, -0.005471058102644308, -0.0061147119970621205, -0.0045055772609961502, -0.0045055772609961502, -0.0048274042082122031)\n"
     ]
    }
   ],
   "source": [
    "patternFinder()"
   ]
  },
  {
   "cell_type": "code",
   "execution_count": null,
   "metadata": {
    "collapsed": true
   },
   "outputs": [],
   "source": []
  }
 ],
 "metadata": {
  "kernelspec": {
   "display_name": "Python 2",
   "language": "python",
   "name": "python2"
  },
  "language_info": {
   "codemirror_mode": {
    "name": "ipython",
    "version": 2
   },
   "file_extension": ".py",
   "mimetype": "text/x-python",
   "name": "python",
   "nbconvert_exporter": "python",
   "pygments_lexer": "ipython2",
   "version": "2.7.13"
  }
 },
 "nbformat": 4,
 "nbformat_minor": 2
}
