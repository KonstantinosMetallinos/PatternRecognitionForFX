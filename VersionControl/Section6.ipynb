{
 "cells": [
  {
   "cell_type": "markdown",
   "metadata": {},
   "source": [
    "# Section 1 "
   ]
  },
  {
   "cell_type": "code",
   "execution_count": 1,
   "metadata": {
    "collapsed": false
   },
   "outputs": [],
   "source": [
    "import matplotlib\n",
    "import matplotlib.pyplot as plt\n",
    "import matplotlib.ticker as mticker\n",
    "import matplotlib.dates as mdates\n",
    "import numpy as np\n",
    "\n",
    "import time"
   ]
  },
  {
   "cell_type": "markdown",
   "metadata": {},
   "source": [
    "# Section 2"
   ]
  },
  {
   "cell_type": "markdown",
   "metadata": {},
   "source": [
    "##### Static Final Strings"
   ]
  },
  {
   "cell_type": "code",
   "execution_count": 2,
   "metadata": {
    "collapsed": true
   },
   "outputs": [],
   "source": [
    "filename='GBPUSD1d.txt'\n",
    "path='' # Blank := local file\n",
    "filelocation=path+filename\n",
    "\n",
    "comma=','\n",
    "patternFinderStoppingPoint=30\n",
    "patternFinderStartingPoint=10\n"
   ]
  },
  {
   "cell_type": "markdown",
   "metadata": {},
   "source": [
    "##### Global Variables"
   ]
  },
  {
   "cell_type": "code",
   "execution_count": 3,
   "metadata": {
    "collapsed": true
   },
   "outputs": [],
   "source": [
    "date,bid,ask = np.loadtxt(filelocation, unpack=True, \n",
    "                      delimiter=comma, \n",
    "                      converters={0:mdates.strpdate2num('%Y%m%d%H%M%S')})\n",
    "#converters: Used to convert DateStamps to plot Dates\n",
    "\n",
    "#Store the Pattern and store the outcome of the next 20-30 points \n",
    "patternAr = []\n",
    "performanceAr = []"
   ]
  },
  {
   "cell_type": "markdown",
   "metadata": {},
   "source": [
    "# Section 3"
   ]
  },
  {
   "cell_type": "code",
   "execution_count": 4,
   "metadata": {
    "collapsed": true
   },
   "outputs": [],
   "source": [
    "def graphRawFX():\n",
    "    global date,bid,ask\n",
    "    \n",
    "    fig = plt.figure(figsize=(10,7))\n",
    "    ax1 = plt.subplot2grid((40,40), (0,0), rowspan=40, colspan=40)\n",
    "\n",
    "    ax1.plot(date,bid)\n",
    "    ax1.plot(date,ask)\n",
    "    plt.gca().get_yaxis().get_major_formatter().set_useOffset(False)\n",
    "\n",
    "\n",
    "    ax1.xaxis.set_major_formatter(mdates.DateFormatter('%Y-%m-%d %H:%M:%S'))\n",
    "    for label in ax1.xaxis.get_ticklabels():\n",
    "        label.set_rotation(45)\n",
    "\n",
    "    # Spread addition to the plot\n",
    "    ax1_2 = ax1.twinx()\n",
    "    ax1_2.fill_between(date, 0, (ask-bid), facecolor='g', alpha=.3)\n",
    "\n",
    "    plt.subplots_adjust(bottom=.23)\n",
    "\n",
    "    plt.grid(True)\n",
    "    plt.show()"
   ]
  },
  {
   "cell_type": "code",
   "execution_count": 5,
   "metadata": {
    "collapsed": false
   },
   "outputs": [],
   "source": [
    "#graphRawFX()"
   ]
  },
  {
   "cell_type": "markdown",
   "metadata": {
    "collapsed": true
   },
   "source": [
    "# Section 4"
   ]
  },
  {
   "cell_type": "code",
   "execution_count": 6,
   "metadata": {
    "collapsed": true
   },
   "outputs": [],
   "source": [
    "def percentChange(startPoint_, currentPoint_):\n",
    "    return (float(currentPoint_-startPoint_)*100.0/abs(startPoint_))"
   ]
  },
  {
   "cell_type": "markdown",
   "metadata": {
    "collapsed": true
   },
   "source": [
    "# Section 5"
   ]
  },
  {
   "cell_type": "code",
   "execution_count": 7,
   "metadata": {
    "collapsed": false
   },
   "outputs": [],
   "source": [
    "def patternStorage():\n",
    "    global patternFinderStoppingPoint, patternFinderStartingPoint\n",
    "    \n",
    "    #Timing it\n",
    "    patStartTime = time.time()\n",
    "    \n",
    "    avgLine = (bid+ask)/2\n",
    "    x = len(avgLine) - patternFinderStoppingPoint # counter end point; -30 to stop at the 30th point\n",
    "    \n",
    "    y = patternFinderStartingPoint#counter starting point \n",
    "    while y < x:\n",
    "        pattern = []\n",
    "        #p1=point 1; avgLine[y-10]=startingpoint; avgLine[y-9]=currentpoint\n",
    "        # Replace magic number 10 with patternFinderStartingPoint\n",
    "        #     and -9,-8-,7,etc with patternFinderStartingPoint-1, patternFinderStartingPoint-2,...\n",
    "        p1 = percentChange(avgLine[y-10], avgLine[y-9])\n",
    "        p2 = percentChange(avgLine[y-10], avgLine[y-8])\n",
    "        p3 = percentChange(avgLine[y-10], avgLine[y-7])\n",
    "        p4 = percentChange(avgLine[y-10], avgLine[y-6])\n",
    "        p5 = percentChange(avgLine[y-10], avgLine[y-5])\n",
    "        p6 = percentChange(avgLine[y-10], avgLine[y-4])\n",
    "        p7 = percentChange(avgLine[y-10], avgLine[y-3])\n",
    "        p8 = percentChange(avgLine[y-10], avgLine[y-2])\n",
    "        p9 = percentChange(avgLine[y-10], avgLine[y-1])\n",
    "        p10 = percentChange(avgLine[y-10], avgLine[y])\n",
    "        \n",
    "        outcomeRange = avgLine[y+20:y+30]\n",
    "        currentPoint = avgLine[y]\n",
    "        \n",
    "        try:\n",
    "            avgOutcome =(reduce(lambda x,y: x+y, outcomeRange)/len(outcomeRange))\n",
    "        except Exception, e:\n",
    "            print str(e)\n",
    "            avgOutcome=0\n",
    "        \n",
    "        #Normalise \n",
    "        futureOutcome = percentChange(currentPoint, avgOutcome)\n",
    "        pattern.append(p1)\n",
    "        pattern.append(p2)\n",
    "        pattern.append(p3)\n",
    "        pattern.append(p4)\n",
    "        pattern.append(p5)\n",
    "        pattern.append(p6)\n",
    "        pattern.append(p7)\n",
    "        pattern.append(p8)\n",
    "        pattern.append(p9)\n",
    "        pattern.append(p10)\n",
    "        \n",
    "        patternAr.append(pattern)\n",
    "        performanceAr.append(futureOutcome)\n",
    "\n",
    "        \n",
    "        y += 1\n",
    "        \n",
    "    patEndTime = time.time()\n",
    "    \n",
    "    #Sanity check lengths are the same \n",
    "    print('Length of pattern Array: ', len(patternAr))\n",
    "    print('Length of performance Array: ', len(performanceAr))\n",
    "    \n",
    "    print('Pattern storage took: ', patEndTime-patStartTime, ' seconds')\n",
    "    \n",
    "                "
   ]
  },
  {
   "cell_type": "code",
   "execution_count": 8,
   "metadata": {
    "collapsed": false
   },
   "outputs": [
    {
     "name": "stdout",
     "output_type": "stream",
     "text": [
      "('Length of pattern Array: ', 61972)\n",
      "('Length of performance Array: ', 61972)\n",
      "('Pattern storage took: ', 1.1180000305175781, ' seconds')\n"
     ]
    }
   ],
   "source": [
    "patternStorage()"
   ]
  },
  {
   "cell_type": "code",
   "execution_count": null,
   "metadata": {
    "collapsed": true
   },
   "outputs": [],
   "source": []
  }
 ],
 "metadata": {
  "kernelspec": {
   "display_name": "Python 2",
   "language": "python",
   "name": "python2"
  },
  "language_info": {
   "codemirror_mode": {
    "name": "ipython",
    "version": 2
   },
   "file_extension": ".py",
   "mimetype": "text/x-python",
   "name": "python",
   "nbconvert_exporter": "python",
   "pygments_lexer": "ipython2",
   "version": "2.7.13"
  }
 },
 "nbformat": 4,
 "nbformat_minor": 2
}
