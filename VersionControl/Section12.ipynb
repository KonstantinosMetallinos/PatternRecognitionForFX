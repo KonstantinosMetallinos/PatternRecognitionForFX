{
 "cells": [
  {
   "cell_type": "markdown",
   "metadata": {},
   "source": [
    "# Section 1 "
   ]
  },
  {
   "cell_type": "code",
   "execution_count": 1,
   "metadata": {
    "collapsed": false
   },
   "outputs": [],
   "source": [
    "from __future__ import division\n",
    "\n",
    "import matplotlib\n",
    "import matplotlib.pyplot as plt\n",
    "import matplotlib.ticker as mticker\n",
    "import matplotlib.dates as mdates\n",
    "import numpy as np\n",
    "\n",
    "import time"
   ]
  },
  {
   "cell_type": "markdown",
   "metadata": {},
   "source": [
    "# Section 2"
   ]
  },
  {
   "cell_type": "markdown",
   "metadata": {},
   "source": [
    "##### Public Static Final Variables"
   ]
  },
  {
   "cell_type": "code",
   "execution_count": 2,
   "metadata": {
    "collapsed": true
   },
   "outputs": [],
   "source": [
    "filename='GBPUSD1d.txt'\n",
    "path='' # Blank := local file\n",
    "filelocation=path+filename\n",
    "\n",
    "comma=','\n",
    "patternFinderStoppingPoint=60\n",
    "ptrnStart=31 #patternFinderStartingPoint\n",
    "\n",
    "similarityThreshold=60\n",
    "#1e-31 which is clsoe to zero, but will not introduce division by zero error\n",
    "#almostZero=0.0000000000000000000000000000001\n",
    "almostZero=0.000001\n"
   ]
  },
  {
   "cell_type": "markdown",
   "metadata": {},
   "source": [
    "##### Global Variables"
   ]
  },
  {
   "cell_type": "code",
   "execution_count": 3,
   "metadata": {
    "collapsed": false
   },
   "outputs": [],
   "source": [
    "date,bid,ask = np.loadtxt(filelocation, unpack=True, \n",
    "                      delimiter=comma, \n",
    "                      converters={0:mdates.strpdate2num('%Y%m%d%H%M%S')})\n",
    "                    #converters: Used to convert DateStamps to plot Dates\n",
    "\n",
    "# avgLine = (bid+ask)/2\n",
    "\n",
    "# #Store the Pattern and store the outcome of the next 20-30 points \n",
    "# patternAr = []\n",
    "# performanceAr = []\n",
    "\n",
    "# patForRec = []"
   ]
  },
  {
   "cell_type": "markdown",
   "metadata": {},
   "source": [
    "# Section 3"
   ]
  },
  {
   "cell_type": "code",
   "execution_count": 4,
   "metadata": {
    "collapsed": true
   },
   "outputs": [],
   "source": [
    "def graphRawFX():\n",
    "    global date,bid,ask\n",
    "    \n",
    "    fig = plt.figure(figsize=(10,7))\n",
    "    ax1 = plt.subplot2grid((40,40), (0,0), rowspan=40, colspan=40)\n",
    "\n",
    "    ax1.plot(date,bid)\n",
    "    ax1.plot(date,ask)\n",
    "    plt.gca().get_yaxis().get_major_formatter().set_useOffset(False)\n",
    "\n",
    "\n",
    "    ax1.xaxis.set_major_formatter(mdates.DateFormatter('%Y-%m-%d %H:%M:%S'))\n",
    "    for label in ax1.xaxis.get_ticklabels():\n",
    "        label.set_rotation(45)\n",
    "\n",
    "    # Spread addition to the plot\n",
    "    ax1_2 = ax1.twinx()\n",
    "    ax1_2.fill_between(date, 0, (ask-bid), facecolor='g', alpha=.3)\n",
    "\n",
    "    plt.subplots_adjust(bottom=.23)\n",
    "\n",
    "    plt.grid(True)\n",
    "    plt.show()"
   ]
  },
  {
   "cell_type": "code",
   "execution_count": 5,
   "metadata": {
    "collapsed": false
   },
   "outputs": [],
   "source": [
    "#graphRawFX()"
   ]
  },
  {
   "cell_type": "markdown",
   "metadata": {
    "collapsed": true
   },
   "source": [
    "# Section 4"
   ]
  },
  {
   "cell_type": "code",
   "execution_count": 6,
   "metadata": {
    "collapsed": true
   },
   "outputs": [],
   "source": [
    "def percentChange(startPoint_, currentPoint_):\n",
    "    global almostZero\n",
    "    # We use try to make sure we do not get a division by zero error\n",
    "    # We return 0.000...001 instead of zero to avoid similar issues.\n",
    "    try:\n",
    "        perChange = (float(currentPoint_-startPoint_)*100.0/abs(startPoint_))\n",
    "        if perChange == 0.0:\n",
    "            return almostZero\n",
    "        else:\n",
    "            return perChange\n",
    "    except:\n",
    "        return almostZero\n",
    "    return almostZero"
   ]
  },
  {
   "cell_type": "markdown",
   "metadata": {
    "collapsed": true
   },
   "source": [
    "# Section 5"
   ]
  },
  {
   "cell_type": "code",
   "execution_count": 7,
   "metadata": {
    "collapsed": false
   },
   "outputs": [],
   "source": [
    "def patternStorage():\n",
    "    global avgLine, ptrnStart, patternFinderStartingPoint\n",
    "    \n",
    "    #Timing it\n",
    "    patStartTime = time.time()\n",
    "    \n",
    "    # counter end point; -60 to stop at the 60th point\n",
    "    x = len(avgLine) - patternFinderStoppingPoint \n",
    "    \n",
    "    y = ptrnStart#counter starting point \n",
    "    while y < x:\n",
    "        pattern = []\n",
    "        #p1=point 1; avgLine[1]=startingpoint; avgLine[1:ptrnEnd]=currentpoint\n",
    "        #Repeat the process for every starting point and subtract 1 from \"ptrnStart\" per point.\n",
    "        for counter in xrange(1,ptrnStart):\n",
    "            pattern.append(percentChange(avgLine[1], avgLine[1+counter]))\n",
    "        \n",
    "        outcomeRange = avgLine[y+20:y+30] # TODO!!! This needs changing!!!!!\n",
    "        currentPoint = avgLine[y]\n",
    "        \n",
    "        try:\n",
    "            avgOutcome =(reduce(lambda x,y: x+y, outcomeRange)/len(outcomeRange))\n",
    "        except Exception, e:\n",
    "            print str(e)\n",
    "            avgOutcome=0\n",
    "        \n",
    "        \n",
    "        #Normalise \n",
    "        futureOutcome = percentChange(currentPoint, avgOutcome)\n",
    "        \n",
    "        patternAr.append(pattern)\n",
    "        performanceAr.append(futureOutcome)\n",
    "        \n",
    "        y += 1\n",
    "        \n",
    "    patEndTime = time.time() - patStartTime\n",
    "    \n",
    "    #Sanity check lengths are the same \n",
    "    print('Length of pattern Array: {0}'.format(len(patternAr)))\n",
    "    print('Length of performance Array: {0}'.format(len(performanceAr)))\n",
    "    \n",
    "    print('Pattern storage took: {0}{1}'.format(patEndTime, ' seconds'))\n",
    "    \n",
    "                "
   ]
  },
  {
   "cell_type": "code",
   "execution_count": 8,
   "metadata": {
    "collapsed": false
   },
   "outputs": [],
   "source": [
    "#patternStorage()"
   ]
  },
  {
   "cell_type": "markdown",
   "metadata": {
    "collapsed": true
   },
   "source": [
    "# Section 7"
   ]
  },
  {
   "cell_type": "code",
   "execution_count": 9,
   "metadata": {
    "collapsed": true
   },
   "outputs": [],
   "source": [
    "def currentPattern():\n",
    "    global ptrnStart, patForRec\n",
    "    #pattern for Recognition -> patForRec\n",
    "    \n",
    "    #Current Pattern\n",
    "    for counter in xrange(ptrnStart,1,-1): \n",
    "        patForRec.append(percentChange(avgLine[-ptrnStart], avgLine[1-counter]))\n",
    "    \n",
    "#     print(\"Current Pattern for recognition:\\n{0}\".format(patForRec)) \n",
    "    "
   ]
  },
  {
   "cell_type": "code",
   "execution_count": 10,
   "metadata": {
    "collapsed": false
   },
   "outputs": [],
   "source": [
    "#currentPattern()"
   ]
  },
  {
   "cell_type": "markdown",
   "metadata": {
    "collapsed": true
   },
   "source": [
    "# Section 8"
   ]
  },
  {
   "cell_type": "code",
   "execution_count": 12,
   "metadata": {
    "collapsed": false
   },
   "outputs": [],
   "source": [
    "def patternRecognition():\n",
    "    \n",
    "    patternFoundFlag = 0\n",
    "    pattFoundArray = []\n",
    "    \n",
    "\n",
    "    # for every pattern in our array, measure it with the pattern in question\n",
    "    # and compute their similarities. \n",
    "    for eachPattern in patternAr:\n",
    "        howSim = 0\n",
    "        for timept in xrange(0,(ptrnStart-1)):\n",
    "            howSim+=100.00-abs(percentChange(eachPattern[timept], patForRec[timept]))\n",
    "            ''' print(howSim)\n",
    "            print(\"How similar are the 2: \", eachPattern[timept], patForRec[timept])\n",
    "            print(\"output of percent change function: \", percentChange(eachPattern[timept], patForRec[timept]))\n",
    "            print(\"output from 100 - ans: \", 100.00-abs(percentChange(eachPattern[timept], patForRec[timept])))\n",
    "            time.sleep(5)'''\n",
    "            \n",
    "        # How similar are we ? \n",
    "        howSim = howSim*1.0/(ptrnStart-1)\n",
    "#         print(\"Similarity is: {0}%\".format(howSim))\n",
    "        \n",
    "        if(howSim > similarityThreshold):            \n",
    "            #Pattern Index that we found similar.\n",
    "            patdex = patternAr.index(eachPattern)\n",
    "            \n",
    "            patternFoundFlag = 1\n",
    "            \n",
    "# #             print('#################################')\n",
    "# #             print('Pattern for Recognition:{0}{1}'.format(\"\\n\",patForRec))\n",
    "#             print('=================================')\n",
    "#             print('Potential pattern found: {0}'.format(eachPattern))\n",
    "#             print('With Similarity: {0}{1}{2}'.format(howSim, ' and index: ', patdex))\n",
    "# #             print('--------------------------------')\n",
    "# #             print('Predicted outcome:{0}{1}'.format(\"\\n\",performanceAr[patdex]))\n",
    "#             print('#################################')\n",
    "    \n",
    "    \n",
    "            pattFoundArray.append(eachPattern)\n",
    "            \n",
    "          \n",
    "    if(patternFoundFlag == 1):\n",
    "        ##### Plotting #####\n",
    "        #x axes represents the points in time (e.g. time point 1,2,3,... etc.)\n",
    "        xp = range(1,31)\n",
    "        #figure\n",
    "        fig = plt.figure(figsize=(10,6))\n",
    "        \n",
    "        for eachPatt in pattFoundArray:\n",
    "            # plot potential matches\n",
    "            plt.plot(xp, eachPatt)\n",
    "        \n",
    "        #plot original pattern under question \n",
    "        plt.plot(xp, patForRec, '#54fff7', linewidth = 3)\n",
    "        plt.grid(True)\n",
    "        plt.title('Pattern Recognition')\n",
    "        plt.show()\n",
    "        ##### Plotting #####'''\n",
    "\n"
   ]
  },
  {
   "cell_type": "code",
   "execution_count": null,
   "metadata": {
    "collapsed": true
   },
   "outputs": [],
   "source": []
  },
  {
   "cell_type": "code",
   "execution_count": null,
   "metadata": {
    "collapsed": true
   },
   "outputs": [],
   "source": []
  },
  {
   "cell_type": "code",
   "execution_count": null,
   "metadata": {
    "collapsed": true
   },
   "outputs": [],
   "source": []
  },
  {
   "cell_type": "markdown",
   "metadata": {},
   "source": [
    "## Execution "
   ]
  },
  {
   "cell_type": "code",
   "execution_count": null,
   "metadata": {
    "collapsed": true
   },
   "outputs": [],
   "source": []
  },
  {
   "cell_type": "code",
   "execution_count": null,
   "metadata": {
    "collapsed": false,
    "scrolled": true
   },
   "outputs": [
    {
     "name": "stdout",
     "output_type": "stream",
     "text": [
      "data length is 62012\n",
      "Length of pattern Array: 36909\n",
      "Length of performance Array: 36909\n",
      "Pattern storage took: 1.36499977112 seconds\n",
      "Current Pattern for recognition:\n",
      "[0.0016073294221613265, 0.00096439765329108559, -0.00032146588444939648, -0.0016073294221756024, -0.0035361247287720495, -0.0045005223820631353, -0.0038575906132071701, -0.0038575906132071701, -0.001928795306610723, -0.0035361247287720495, -0.0041790564976422907, -0.0045005223820631353, -0.0051434541509333765, -0.0057863859198036167, -0.0054649200353684962, -0.0041790564976422907, -0.0028931929599018084, 1e-06, -0.00032146588444939648, -0.0016073294221898785, -0.001928795306610723, -0.0054649200353684962, -0.0054649200353684962, -0.0054649200353684962, -0.0054649200353684962, -0.0048219882665125318, -0.0041790564976422907, -0.0041790564976422907, -0.0038575906132071701, -0.0035361247287720495]\n",
      "press ENTER to continue...\n",
      "Length of pattern Array: 36910\n",
      "Length of performance Array: 36910\n",
      "Pattern storage took: 1.28600001335 seconds\n",
      "Current Pattern for recognition:\n",
      "[-0.0006429214350048548, -0.0019287643050145643, -0.0032146071750099982, -0.0051433714800102866, -0.0061077536325032933, -0.0054648321975127138, -0.0054648321975127138, -0.0035360678925124255, -0.0051433714800102866, -0.005786292915015142, -0.0061077536325032933, -0.0067506750675081478, -0.0073935965025130031, -0.0070721357850105759, -0.005786292915015142, -0.0045004500450054321, -0.0016073035874978612, -0.0019287643050145643, -0.0032146071750242741, -0.0035360678925124255, -0.0070721357850105759, -0.0070721357850105759, -0.0070721357850105759, -0.0070721357850105759, -0.0064292143500199964, -0.005786292915015142, -0.005786292915015142, -0.0054648321975127138, -0.0051433714800102866, -0.0054648321975127138]\n",
      "press ENTER to continue...\n",
      "Length of pattern Array: 36911\n",
      "Length of performance Array: 36911\n",
      "Pattern storage took: 1.70399999619 seconds\n",
      "Current Pattern for recognition:\n",
      "[-0.0012858511370222917, -0.0025717022740303075, -0.0045004789795494698, -0.0054648673323019125, -0.0048219417638050424, -0.0048219417638050424, -0.0028931650582858805, -0.0045004789795494698, -0.005143404548060615, -0.0054648673323019125, -0.0061077929008130586, -0.0067507184693242038, -0.0064292556850686312, -0.005143404548060615, -0.0038575534110383237, -0.00096438835275244298, -0.0012858511370222917, -0.0025717022740445834, -0.0028931650582858805, -0.0064292556850686312, -0.0064292556850686312, -0.0064292556850686312, -0.0064292556850686312, -0.005786330116571761, -0.005143404548060615, -0.005143404548060615, -0.0048219417638050424, -0.0045004789795494698, -0.0048219417638050424, -0.005143404548060615]\n",
      "press ENTER to continue...\n",
      "Length of pattern Array: 36912\n",
      "Length of performance Array: 36912\n",
      "Pattern storage took: 1.81900000572 seconds\n",
      "Current Pattern for recognition:\n",
      "[-0.0012858676713520885, -0.0032146691783873594, -0.0041790699318978572, -0.0035361360962289506, -0.0035361360962289506, -0.0016073345891936797, -0.0032146691783873594, -0.0038576030140705419, -0.0041790699318978572, -0.0048220037675810396, -0.0054649376032642211, -0.0051434706854226308, -0.0038576030140705419, -0.002571735342704177, 0.00032146691785586717, 1e-06, -0.0012858676713663646, -0.0016073345891936797, -0.0051434706854226308, -0.0051434706854226308, -0.0051434706854226308, -0.0051434706854226308, -0.0045005368497537243, -0.0038576030140705419, -0.0038576030140705419, -0.0035361360962289506, -0.0032146691783873594, -0.0035361360962289506, -0.0038576030140705419, -0.0048220037675810396]\n",
      "press ENTER to continue...\n",
      "Length of pattern Array: 36913\n",
      "Length of performance Array: 36913\n",
      "Pattern storage took: 1.3029999733 seconds\n",
      "Current Pattern for recognition:\n",
      "[-0.0019288263091892172, -0.0028932394637766878, -0.0022502973607231328, -0.0022502973607231328, -0.00032147105153391558, -0.0019288263091892172, -0.0025717684122570483, -0.0028932394637766878, -0.003536181566844519, -0.0041791236699123503, -0.0038576526183784344, -0.0025717684122570483, -0.0012858842061213862, 0.0016073552576695779, 0.0012858842061213862, -1.4276182526443008e-14, -0.00032147105153391558, -0.0038576526183784344, -0.0038576526183784344, -0.0038576526183784344, -0.0038576526183784344, -0.0032147105153248795, -0.0025717684122570483, -0.0025717684122570483, -0.0022502973607231328, -0.0019288263091892172, -0.0022502973607231328, -0.0025717684122570483, -0.003536181566844519, -0.0048220657729801811]\n",
      "press ENTER to continue...\n",
      "Length of pattern Array: 36914\n",
      "Length of performance Array: 36914\n",
      "Pattern storage took: 1.32299995422 seconds\n",
      "Current Pattern for recognition:\n",
      "[-0.00096443175680092994, -0.00032147725227173548, -0.00032147725227173548, 0.0016073862613444009, 1e-06, -0.00064295450454347096, -0.00096443175680092994, -0.0016073862613444009, -0.0022503407658878718, -0.0019288635136161362, -0.00064295450454347096, 0.00064295450454347096, 0.0035362497749748135, 0.0032147725226888018, 0.0019288635136018599, 0.0016073862613444009, -0.0019288635136161362, -0.0019288635136161362, -0.0019288635136161362, -0.0019288635136161362, -0.0012859090090869419, -0.00064295450454347096, -0.00064295450454347096, -0.00032147725227173548, 1e-06, -0.00032147725227173548, -0.00064295450454347096, -0.0016073862613444009, -0.0028932952704313428, -0.0025718180181596071]\n",
      "press ENTER to continue...\n",
      "Length of pattern Array: 36915\n",
      "Length of performance Array: 36915\n",
      "Pattern storage took: 1.30200004578 seconds\n",
      "Current Pattern for recognition:\n",
      "[0.00064296070544642159, 0.00064296070544642159, 0.0025718428218142395, 0.0009644410581767706, 0.00032148035271607246, 1e-06, -0.00064296070546069814, -0.0012859214109213963, -0.00096444105819104716, 0.00032148035271607246, 0.0016074017636374686, 0.0045007249381963333, 0.0041792445854517083, 0.0028933231745303118, 0.0025718428218142395, -0.00096444105819104716, -0.00096444105819104716, -0.00096444105819104716, -0.00096444105819104716, -0.00032148035274462568, 0.00032148035271607246, 0.00032148035271607246, 0.00064296070544642159, 0.0009644410581767706, 0.00064296070544642159, 0.00032148035271607246, -0.00064296070546069814, -0.0019288821163820943, -0.0016074017636517454, -0.0016074017636517454]\n",
      "press ENTER to continue...\n",
      "Length of pattern Array: 36916\n",
      "Length of performance Array: 36916\n",
      "Pattern storage took: 1.29999995232 seconds\n",
      "Current Pattern for recognition:\n",
      "[1e-06, 0.0019288697144934943, 0.00032147828575129512, -0.00032147828575129512, -0.00064295657148831379, -0.0012859131429909041, -0.0019288697144934943, -0.0016073914287421992, -0.00032147828575129512, 0.00096443485725388541, 0.0038577394290012653, 0.0035362611432356935, 0.0022503480002305128, 0.0019288697144934943, -0.0016073914287421992, -0.0016073914287421992, -0.0016073914287421992, -0.0016073914287421992, -0.00096443485725388541, -0.00032147828575129512, -0.00032147828575129512, 1e-06, 0.00032147828575129512, 1e-06, -0.00032147828575129512, -0.0012859131429909041, -0.0025718262859960846, -0.0022503480002447895, -0.0022503480002447895, -0.00032147828575129512]\n",
      "press ENTER to continue...\n",
      "Length of pattern Array: 36917\n",
      "Length of performance Array: 36917\n",
      "Pattern storage took: 1.60600018501 seconds\n",
      "Current Pattern for recognition:\n",
      "[0.0019288697144934943, 0.00032147828575129512, -0.00032147828575129512, -0.00064295657148831379, -0.0012859131429909041, -0.0019288697144934943, -0.0016073914287421992, -0.00032147828575129512, 0.00096443485725388541, 0.0038577394290012653, 0.0035362611432356935, 0.0022503480002305128, 0.0019288697144934943, -0.0016073914287421992, -0.0016073914287421992, -0.0016073914287421992, -0.0016073914287421992, -0.00096443485725388541, -0.00032147828575129512, -0.00032147828575129512, 1e-06, 0.00032147828575129512, 1e-06, -0.00032147828575129512, -0.0012859131429909041, -0.0025718262859960846, -0.0022503480002447895, -0.0022503480002447895, -0.00032147828575129512, 1e-06]\n"
     ]
    }
   ],
   "source": [
    "dataLength = int(bid.shape[0])\n",
    "print(\"data length is {0}\".format(dataLength))\n",
    "\n",
    "# end point of while loop\n",
    "toWhat = 37000\n",
    "\n",
    "allDataAvgLine = (bid+ask)/2\n",
    "while toWhat < dataLength:\n",
    "    avgLine = allDataAvgLine[:toWhat]\n",
    "\n",
    "    #Store the Pattern and store the outcome of the next 20-30 points \n",
    "    patternAr = []\n",
    "    performanceAr = []\n",
    "    patForRec = []\n",
    "    \n",
    "    patternStorage()\n",
    "    currentPattern()\n",
    "    patternRecognition()\n",
    "    \n",
    "    # user input to allow us to stop process\n",
    "    # Press and hold to go until it stops and graphs out the finding\n",
    "    moveOn = raw_input(\"press ENTER to continue...\")\n",
    "    toWhat += 1 \n",
    "    "
   ]
  },
  {
   "cell_type": "code",
   "execution_count": null,
   "metadata": {
    "collapsed": false,
    "scrolled": true
   },
   "outputs": [],
   "source": []
  },
  {
   "cell_type": "code",
   "execution_count": null,
   "metadata": {
    "collapsed": false
   },
   "outputs": [],
   "source": []
  },
  {
   "cell_type": "code",
   "execution_count": null,
   "metadata": {
    "collapsed": false
   },
   "outputs": [],
   "source": []
  },
  {
   "cell_type": "code",
   "execution_count": null,
   "metadata": {
    "collapsed": false
   },
   "outputs": [],
   "source": []
  },
  {
   "cell_type": "code",
   "execution_count": null,
   "metadata": {
    "collapsed": true
   },
   "outputs": [],
   "source": []
  },
  {
   "cell_type": "code",
   "execution_count": 14,
   "metadata": {
    "collapsed": false,
    "scrolled": true
   },
   "outputs": [
    {
     "name": "stdout",
     "output_type": "stream",
     "text": [
      "Length of pattern Array: 123842\n",
      "Length of performance Array: 123842\n",
      "Pattern storage took: 2.28500008583 seconds\n",
      "Current Pattern for recognition:\n",
      "[1e-31, -0.00032112109797936193, 1e-31, 1e-31, 1e-31, 1e-31, 1e-31, 1e-31, 1e-31, -0.00064224219595872387, 1e-31, 0.00064224219595872387, 0.00064224219595872387, 0.00096336329392382512, 0.00064224219595872387, 0.00064224219595872387, 0.00032112109797936193, 0.00032112109797936193, -0.00032112109797936193, -0.00032112109797936193, -0.00064224219595872387, -0.001605605489882549, -0.00096336329393808574, -0.00064224219595872387, -0.00096336329393808574, -0.0019267265878761715, -0.001926726587861911, -0.001926726587861911, -0.00064224219595872387, -0.00064224219595872387, 1e-31, -0.00032112109797936193, 1e-31, 1e-31, 1e-31, 1e-31, 1e-31, 1e-31, 1e-31, -0.00064224219595872387, 1e-31, 0.00064224219595872387, 0.00064224219595872387, 0.00096336329392382512, 0.00064224219595872387, 0.00064224219595872387, 0.00032112109797936193, 0.00032112109797936193, -0.00032112109797936193, -0.00032112109797936193, -0.00064224219595872387, -0.001605605489882549, -0.00096336329393808574, -0.00064224219595872387, -0.00096336329393808574, -0.0019267265878761715, -0.001926726587861911, -0.001926726587861911, -0.00064224219595872387, -0.00064224219595872387]\n",
      "0.0\n",
      "-0.00193096168328\n",
      "1e-31\n",
      "100.0\n",
      "0.0\n",
      "9.9780674291\n",
      "-0.00321826947213\n",
      "-0.000321121097979\n",
      "90.0219325709\n",
      "9.9780674291\n",
      "9.9780674291\n",
      "-0.00321826947213\n",
      "1e-31\n",
      "100.0\n",
      "0.0\n",
      "9.9780674291\n",
      "-0.00354009641936\n",
      "1e-31\n",
      "100.0\n",
      "0.0\n",
      "9.9780674291\n",
      "-0.00386192336656\n",
      "1e-31\n",
      "100.0\n",
      "0.0\n",
      "9.9780674291\n",
      "-0.00547105810264\n",
      "1e-31\n",
      "100.0\n",
      "0.0\n",
      "9.9780674291\n",
      "-0.00611471199706\n",
      "1e-31\n",
      "100.0\n",
      "1.42108547152e-14\n",
      "9.9780674291\n",
      "-0.004505577261\n",
      "1e-31\n",
      "100.0\n",
      "0.0\n",
      "9.9780674291\n",
      "-0.004505577261\n",
      "1e-31\n",
      "100.0\n",
      "0.0\n",
      "23.2821573345\n",
      "-0.00482740420821\n",
      "-0.000642242195959\n",
      "86.6959100946\n",
      "13.3040899054\n",
      "23.2821573345\n",
      "-0.00482740420821\n",
      "1e-31\n",
      "100.0\n",
      "0.0\n"
     ]
    },
    {
     "ename": "KeyboardInterrupt",
     "evalue": "",
     "output_type": "error",
     "traceback": [
      "\u001b[1;31m---------------------------------------------------------------------------\u001b[0m",
      "\u001b[1;31mKeyboardInterrupt\u001b[0m                         Traceback (most recent call last)",
      "\u001b[1;32m<ipython-input-14-0a155bfaf996>\u001b[0m in \u001b[0;36m<module>\u001b[1;34m()\u001b[0m\n\u001b[0;32m      3\u001b[0m \u001b[0mpatternStorage\u001b[0m\u001b[1;33m(\u001b[0m\u001b[1;33m)\u001b[0m\u001b[1;33m\u001b[0m\u001b[0m\n\u001b[0;32m      4\u001b[0m \u001b[0mcurrentPattern\u001b[0m\u001b[1;33m(\u001b[0m\u001b[1;33m)\u001b[0m\u001b[1;33m\u001b[0m\u001b[0m\n\u001b[1;32m----> 5\u001b[1;33m \u001b[0mpatternRecognition\u001b[0m\u001b[1;33m(\u001b[0m\u001b[1;33m)\u001b[0m\u001b[1;33m\u001b[0m\u001b[0m\n\u001b[0m\u001b[0;32m      6\u001b[0m \u001b[0mtotalEndTime\u001b[0m \u001b[1;33m=\u001b[0m \u001b[0mtime\u001b[0m\u001b[1;33m.\u001b[0m\u001b[0mtime\u001b[0m\u001b[1;33m(\u001b[0m\u001b[1;33m)\u001b[0m \u001b[1;33m-\u001b[0m \u001b[0mtotalStartTime\u001b[0m\u001b[1;33m\u001b[0m\u001b[0m\n\u001b[0;32m      7\u001b[0m \u001b[1;32mprint\u001b[0m\u001b[1;33m(\u001b[0m\u001b[1;34m'Entire Process took '\u001b[0m\u001b[1;33m,\u001b[0m \u001b[0mtotalEndTime\u001b[0m\u001b[1;33m)\u001b[0m\u001b[1;33m\u001b[0m\u001b[0m\n",
      "\u001b[1;32m<ipython-input-13-751386e5c90a>\u001b[0m in \u001b[0;36mpatternRecognition\u001b[1;34m()\u001b[0m\n\u001b[0;32m     12\u001b[0m             \u001b[1;32mprint\u001b[0m\u001b[1;33m(\u001b[0m\u001b[0mpercentChange\u001b[0m\u001b[1;33m(\u001b[0m\u001b[0meachPattern\u001b[0m\u001b[1;33m[\u001b[0m\u001b[0mtimept\u001b[0m\u001b[1;33m]\u001b[0m\u001b[1;33m,\u001b[0m \u001b[0mpatForRec\u001b[0m\u001b[1;33m[\u001b[0m\u001b[0mtimept\u001b[0m\u001b[1;33m]\u001b[0m\u001b[1;33m)\u001b[0m\u001b[1;33m)\u001b[0m\u001b[1;33m\u001b[0m\u001b[0m\n\u001b[0;32m     13\u001b[0m             \u001b[1;32mprint\u001b[0m\u001b[1;33m(\u001b[0m\u001b[1;36m100.00\u001b[0m\u001b[1;33m-\u001b[0m\u001b[0mabs\u001b[0m\u001b[1;33m(\u001b[0m\u001b[0mpercentChange\u001b[0m\u001b[1;33m(\u001b[0m\u001b[0meachPattern\u001b[0m\u001b[1;33m[\u001b[0m\u001b[0mtimept\u001b[0m\u001b[1;33m]\u001b[0m\u001b[1;33m,\u001b[0m \u001b[0mpatForRec\u001b[0m\u001b[1;33m[\u001b[0m\u001b[0mtimept\u001b[0m\u001b[1;33m]\u001b[0m\u001b[1;33m)\u001b[0m\u001b[1;33m)\u001b[0m\u001b[1;33m)\u001b[0m\u001b[1;33m\u001b[0m\u001b[0m\n\u001b[1;32m---> 14\u001b[1;33m             \u001b[0mtime\u001b[0m\u001b[1;33m.\u001b[0m\u001b[0msleep\u001b[0m\u001b[1;33m(\u001b[0m\u001b[1;36m3\u001b[0m\u001b[1;33m)\u001b[0m\u001b[1;33m\u001b[0m\u001b[0m\n\u001b[0m\u001b[0;32m     15\u001b[0m         \u001b[1;31m# How similar are we ?\u001b[0m\u001b[1;33m\u001b[0m\u001b[1;33m\u001b[0m\u001b[0m\n\u001b[0;32m     16\u001b[0m         \u001b[0mhowSim\u001b[0m \u001b[1;33m=\u001b[0m \u001b[0mhowSim\u001b[0m\u001b[1;33m*\u001b[0m\u001b[1;36m1.0\u001b[0m\u001b[1;33m/\u001b[0m\u001b[1;33m(\u001b[0m\u001b[0mptrnStart\u001b[0m\u001b[1;33m-\u001b[0m\u001b[1;36m1\u001b[0m\u001b[1;33m)\u001b[0m\u001b[1;33m\u001b[0m\u001b[0m\n",
      "\u001b[1;31mKeyboardInterrupt\u001b[0m: "
     ]
    }
   ],
   "source": [
    "#Time the whole Script\n",
    "totalStartTime = time.time()\n",
    "patternStorage()\n",
    "currentPattern()\n",
    "patternRecognition()\n",
    "totalEndTime = time.time() - totalStartTime\n",
    "print('Entire Process took ', totalEndTime)"
   ]
  },
  {
   "cell_type": "code",
   "execution_count": null,
   "metadata": {
    "collapsed": true
   },
   "outputs": [],
   "source": []
  },
  {
   "cell_type": "code",
   "execution_count": null,
   "metadata": {
    "collapsed": true
   },
   "outputs": [],
   "source": [
    "0.0\n",
    "('How similar are the 2: ', -0.0019309616832820227, 1e-31)\n",
    "('output of percent change function: ', 100.0)\n",
    "('output from 100 - ans: ', 0.0)\n",
    "9.9780674291\n",
    "('How similar are the 2: ', -0.0032182694721319405, -0.00032112109797936193)\n",
    "('output of percent change function: ', 90.021932570903232)\n",
    "('output from 100 - ans: ', 9.9780674290967681)\n",
    "9.9780674291\n",
    "('How similar are the 2: ', -0.0032182694721319405, 1e-31)\n",
    "('output of percent change function: ', 100.0)\n",
    "('output from 100 - ans: ', 0.0)"
   ]
  },
  {
   "cell_type": "code",
   "execution_count": 17,
   "metadata": {
    "collapsed": false
   },
   "outputs": [
    {
     "data": {
      "text/plain": [
       "100.0"
      ]
     },
     "execution_count": 17,
     "metadata": {},
     "output_type": "execute_result"
    }
   ],
   "source": [
    "percentChange(-0.0019309616832820227, 1e-31)"
   ]
  },
  {
   "cell_type": "code",
   "execution_count": 18,
   "metadata": {
    "collapsed": false
   },
   "outputs": [
    {
     "data": {
      "text/plain": [
       "90.02193257090323"
      ]
     },
     "execution_count": 18,
     "metadata": {},
     "output_type": "execute_result"
    }
   ],
   "source": [
    "percentChange(-0.0032182694721319405, -0.00032112109797936193)"
   ]
  },
  {
   "cell_type": "code",
   "execution_count": null,
   "metadata": {
    "collapsed": true
   },
   "outputs": [],
   "source": []
  }
 ],
 "metadata": {
  "kernelspec": {
   "display_name": "Python 2",
   "language": "python",
   "name": "python2"
  },
  "language_info": {
   "codemirror_mode": {
    "name": "ipython",
    "version": 2
   },
   "file_extension": ".py",
   "mimetype": "text/x-python",
   "name": "python",
   "nbconvert_exporter": "python",
   "pygments_lexer": "ipython2",
   "version": "2.7.13"
  }
 },
 "nbformat": 4,
 "nbformat_minor": 2
}
